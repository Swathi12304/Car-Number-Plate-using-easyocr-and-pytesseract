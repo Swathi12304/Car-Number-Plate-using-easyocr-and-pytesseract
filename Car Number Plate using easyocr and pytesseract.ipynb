{
 "cells": [
  {
   "cell_type": "code",
   "execution_count": null,
   "metadata": {},
   "outputs": [],
   "source": [
    "pip install tesseract"
   ]
  },
  {
   "cell_type": "code",
   "execution_count": null,
   "metadata": {},
   "outputs": [],
   "source": [
    "pip install tesseract-ocr\n"
   ]
  },
  {
   "cell_type": "code",
   "execution_count": null,
   "metadata": {},
   "outputs": [],
   "source": [
    "conda install -c conda-forge tesseract"
   ]
  },
  {
   "cell_type": "code",
   "execution_count": 1,
   "metadata": {},
   "outputs": [],
   "source": [
    "import cv2\n",
    "import easyocr\n",
    "#import tesseract\n",
    "import pytesseract\n",
    "pytesseract.pytesseract.tesseract_cmd = 'C://Program Files//Tesseract-OCR//tesseract.exe'"
   ]
  },
  {
   "cell_type": "code",
   "execution_count": null,
   "metadata": {},
   "outputs": [],
   "source": [
    "#read the image file\n",
    "image = cv2.imread(r'C:\\Users\\HP\\Downloads\\car.jpg')\n",
    "cv2.imshow('image', image)\n",
    "cv2.waitKey(0)\n",
    "cv2.destroyAllWindows()"
   ]
  },
  {
   "cell_type": "code",
   "execution_count": null,
   "metadata": {},
   "outputs": [],
   "source": [
    "image.shape"
   ]
  },
  {
   "cell_type": "code",
   "execution_count": null,
   "metadata": {},
   "outputs": [],
   "source": [
    "#extracting text and contours using easyocr\n",
    "reader = easyocr.Reader(['en'])\n",
    "output = reader.readtext(image)"
   ]
  },
  {
   "cell_type": "code",
   "execution_count": null,
   "metadata": {},
   "outputs": [],
   "source": [
    "output"
   ]
  },
  {
   "cell_type": "code",
   "execution_count": null,
   "metadata": {},
   "outputs": [],
   "source": [
    "out = output[3][0]\n",
    "out"
   ]
  },
  {
   "cell_type": "code",
   "execution_count": null,
   "metadata": {},
   "outputs": [],
   "source": [
    "text = output[3][1]\n",
    "text"
   ]
  },
  {
   "cell_type": "code",
   "execution_count": null,
   "metadata": {},
   "outputs": [],
   "source": [
    "(tl, tr, br, bl) = out\n",
    "tl = (int(tl[0]), int(tl[1]))\n",
    "tr = (int(tr[0]), int(tr[1]))\n",
    "br = (int(br[0]), int(br[1]))\n",
    "bl = (int(bl[0]), int(bl[1]))\n",
    "print (tl,tr,br,bl)\n",
    "\n",
    "cv2.rectangle(image, tl, br, (0, 255, 0), 2)\n",
    "cv2.putText(image, text, (tl[0], tl[1] - 10),\n",
    "    cv2.FONT_HERSHEY_SIMPLEX, 0.8, (0, 255, 0), 2)\n",
    "\n",
    "# show the output image\n",
    "cv2.imshow(\"Image\", image)\n",
    "cv2.waitKey(0)\n"
   ]
  },
  {
   "cell_type": "code",
   "execution_count": null,
   "metadata": {},
   "outputs": [],
   "source": [
    "#Pytesseract"
   ]
  },
  {
   "cell_type": "code",
   "execution_count": 2,
   "metadata": {},
   "outputs": [],
   "source": [
    "image = cv2.imread(r'C:\\Users\\HP\\Downloads\\car.jpg')\n",
    "cv2.imshow('image', image)\n",
    "cv2.waitKey(0)\n",
    "cv2.destroyAllWindows()"
   ]
  },
  {
   "cell_type": "code",
   "execution_count": 3,
   "metadata": {},
   "outputs": [],
   "source": [
    "#convert to grayscalse\n",
    "gray_image = cv2.cvtColor(image,cv2.COLOR_BGR2GRAY)\n",
    "cv2.imshow(\"Image\", image)\n",
    "#Canny Edge Detection\n",
    "canny_edge = cv2.Canny(gray_image, 170,200)\n",
    "#canny_edge = canny_edge.copy()\n",
    "cv2.imshow('gray', gray_image)\n",
    "cv2.imshow('canny', canny_edge)\n",
    "cv2.waitKey(0)\n",
    "cv2.destroyAllWindows()\n"
   ]
  },
  {
   "cell_type": "code",
   "execution_count": 4,
   "metadata": {},
   "outputs": [
    {
     "name": "stdout",
     "output_type": "stream",
     "text": [
      "453 333 254 61\n"
     ]
    }
   ],
   "source": [
    "#convert to grayscalse\n",
    "gray_image = cv2.cvtColor(image,cv2.COLOR_BGR2GRAY)\n",
    "cv2.imshow(\"Image\", image)\n",
    "#Canny Edge Detection\n",
    "canny_edge = cv2.Canny(gray_image, 170,200)\n",
    "#canny_edge = canny_edge.copy()\n",
    "contours, new = cv2.findContours(canny_edge.copy(), cv2.RETR_LIST, cv2.CHAIN_APPROX_SIMPLE)\n",
    "contours = sorted(contours, key = cv2.contourArea, reverse = True)[:30]\n",
    "contour_with_licence_plate = None\n",
    "license_plate =None\n",
    "x= None\n",
    "y= None\n",
    "h= None\n",
    "w= None\n",
    "for contour in contours:\n",
    "    #find th perimeter of contour and it should be a closed contour\n",
    "    perimeter = cv2.arcLength(contour, True)\n",
    "    approx = cv2.approxPolyDP(contour, 0.01*perimeter, True)\n",
    "    if len(approx) ==4: #see whether it is rect\n",
    "        contour_with_license_plate = approx\n",
    "        x,y,w,h = cv2.boundingRect(contour)\n",
    "        license_plate = gray_image[y:y+h, x:x+w]\n",
    "        break\n",
    "print(x,y,w,h)"
   ]
  },
  {
   "cell_type": "code",
   "execution_count": 5,
   "metadata": {},
   "outputs": [],
   "source": [
    "cv2.imshow('License Plate', license_plate)\n",
    "cv2.waitKey(0)\n",
    "cv2.destroyAllWindows()"
   ]
  },
  {
   "cell_type": "code",
   "execution_count": 6,
   "metadata": {},
   "outputs": [],
   "source": [
    "#Removing Noise from the detected image, before sending to Tesseract\n",
    "#licenseplate \n",
    "license_plate= cv2.bilateralFilter(license_plate, 30, 40, 40)\n",
    "cv2.imshow(\"bil\", license_plate)\n",
    "(thresh, license_plate)= cv2.threshold(license_plate, 150, 200,cv2.THRESH_BINARY)\n",
    "cv2.imshow(\"thresh\", license_plate)\n",
    "cv2.waitKey(0)\n",
    "cv2.destroyAllWindows()\n"
   ]
  },
  {
   "cell_type": "code",
   "execution_count": 8,
   "metadata": {},
   "outputs": [
    {
     "name": "stdout",
     "output_type": "stream",
     "text": [
      "text: \n",
      "License Plate: \n"
     ]
    }
   ],
   "source": [
    "#Text Recognition\n",
    "pytesseract.pytesseract.tesseract_cmd = \"C:\\\\Program Files\\\\Tesseract-OCR\\\\tesseract.exe\"\n",
    "text = pytesseract.image_to_string(license_plate)\n",
    "print (f\"text: {text}\")\n",
    "#Draw License Plate and write the text\n",
    "image = cv2.rectangle(image,(x,y),(x+w,y+h), (0,0,255), 3)\n",
    "image = cv2.putText(image,text, (x-100, y-50), cv2.FONT_HERSHEY_SIMPLEX, 3, (0,255,0),3, cv2.LINE_AA)\n",
    "\n",
    "\n",
    "print(\"License Plate:\", text)\n",
    "\n",
    "cv2.imshow(\"License Plate Detection\", image)\n",
    "cv2.waitKey(0)\n",
    "cv2.destroyAllWindows()"
   ]
  },
  {
   "cell_type": "code",
   "execution_count": 9,
   "metadata": {},
   "outputs": [],
   "source": [
    "# cv2.imshow('License Plate', license_plate)\n",
    "# cv2.waitKey(0)\n",
    "# cv2.destroyAllWindows()"
   ]
  },
  {
   "cell_type": "code",
   "execution_count": 10,
   "metadata": {},
   "outputs": [
    {
     "name": "stdout",
     "output_type": "stream",
     "text": [
      "\n",
      "License Plate: \n"
     ]
    }
   ],
   "source": [
    "#Text Recognition\n",
    "text = pytesseract.image_to_string(license_plate)\n",
    "print (text)\n",
    "#Draw License Plate and write the text\n",
    "image = cv2.rectangle(image,(x,y),(x+w,y+h), (0,0,255), 3)\n",
    "image = cv2.putText(image,text, (x-100, y-50), cv2.FONT_HERSHEY_SIMPLEX, 3, (0,255,0),3, cv2.LINE_AA)\n",
    "\n",
    "\n",
    "print(\"License Plate:\", text)\n",
    "\n",
    "cv2.imshow(\"License Plate Detection\", image)\n",
    "cv2.waitKey(0)\n",
    "cv2.destroyAllWindows()"
   ]
  },
  {
   "cell_type": "code",
   "execution_count": 11,
   "metadata": {},
   "outputs": [
    {
     "ename": "error",
     "evalue": "OpenCV(4.5.5) D:\\a\\opencv-python\\opencv-python\\opencv\\modules\\imgproc\\src\\color.cpp:182: error: (-215:Assertion failed) !_src.empty() in function 'cv::cvtColor'\n",
     "output_type": "error",
     "traceback": [
      "\u001b[1;31m---------------------------------------------------------------------------\u001b[0m",
      "\u001b[1;31merror\u001b[0m                                     Traceback (most recent call last)",
      "\u001b[1;32m<ipython-input-11-e8c30c68e850>\u001b[0m in \u001b[0;36m<module>\u001b[1;34m\u001b[0m\n\u001b[0;32m      2\u001b[0m \u001b[1;31m#read the image file\u001b[0m\u001b[1;33m\u001b[0m\u001b[1;33m\u001b[0m\u001b[1;33m\u001b[0m\u001b[0m\n\u001b[0;32m      3\u001b[0m \u001b[0mimage\u001b[0m \u001b[1;33m=\u001b[0m \u001b[0mcv2\u001b[0m\u001b[1;33m.\u001b[0m\u001b[0mimread\u001b[0m\u001b[1;33m(\u001b[0m\u001b[1;34m'car2.jpg'\u001b[0m\u001b[1;33m)\u001b[0m\u001b[1;33m\u001b[0m\u001b[1;33m\u001b[0m\u001b[0m\n\u001b[1;32m----> 4\u001b[1;33m \u001b[0mcv2\u001b[0m\u001b[1;33m.\u001b[0m\u001b[0mimshow\u001b[0m\u001b[1;33m(\u001b[0m\u001b[1;34m'image'\u001b[0m\u001b[1;33m,\u001b[0m \u001b[0mimage\u001b[0m\u001b[1;33m)\u001b[0m\u001b[1;33m\u001b[0m\u001b[1;33m\u001b[0m\u001b[0m\n\u001b[0m\u001b[0;32m      5\u001b[0m \u001b[0mcv2\u001b[0m\u001b[1;33m.\u001b[0m\u001b[0mwaitKey\u001b[0m\u001b[1;33m(\u001b[0m\u001b[1;36m0\u001b[0m\u001b[1;33m)\u001b[0m\u001b[1;33m\u001b[0m\u001b[1;33m\u001b[0m\u001b[0m\n\u001b[0;32m      6\u001b[0m \u001b[0mcv2\u001b[0m\u001b[1;33m.\u001b[0m\u001b[0mdestroyAllWindows\u001b[0m\u001b[1;33m(\u001b[0m\u001b[1;33m)\u001b[0m\u001b[1;33m\u001b[0m\u001b[1;33m\u001b[0m\u001b[0m\n",
      "\u001b[1;31merror\u001b[0m: OpenCV(4.5.5) D:\\a\\opencv-python\\opencv-python\\opencv\\modules\\imgproc\\src\\color.cpp:182: error: (-215:Assertion failed) !_src.empty() in function 'cv::cvtColor'\n"
     ]
    }
   ],
   "source": [
    "#checking with another image\n",
    "#read the image file\n",
    "image = cv2.imread('car2.jpg')\n",
    "cv2.imshow('image', image)\n",
    "cv2.waitKey(0)\n",
    "cv2.destroyAllWindows()"
   ]
  },
  {
   "cell_type": "code",
   "execution_count": null,
   "metadata": {},
   "outputs": [],
   "source": [
    "#convert to grayscalse\n",
    "gray_image = cv2.cvtColor(image,cv2.COLOR_BGR2GRAY)\n",
    "#Canny Edge Detection\n",
    "canny_edge = cv2.Canny(gray_image, 170,200)\n",
    "#canny_edge = canny_edge.copy()\n",
    "# cv2.imshow('gray', gray_image)\n",
    "# cv2.imshow('canny', canny_edge)\n",
    "# cv2.waitKey(0)\n",
    "# cv2.destroyAllWindows()\n",
    "\n",
    "contours, new = cv2.findContours(canny_edge.copy(), cv2.RETR_LIST, cv2.CHAIN_APPROX_SIMPLE)\n",
    "contours = sorted(contours, key = cv2.contourArea, reverse = True)[:30]\n",
    "#print(contours)\n",
    " #Initialize coordinates\n",
    "contour_with_licence_plate = None\n",
    "license_plate =None\n",
    "x= None\n",
    "y= None\n",
    "h= None\n",
    "w= None\n",
    "\n",
    "#find the contour with 4 potential corners and create ROI around it\n",
    "for contour in contours:\n",
    "    #find th perimeter of contour and it should be a closed contour\n",
    "    perimeter = cv2.arcLength(contour, True)\n",
    "    approx = cv2.approxPolyDP(contour, 0.01*perimeter, True)\n",
    "    #print(approx)\n",
    "    if len(approx) ==4: #see whether it is rect\n",
    "        contour_with_license_plate = approx\n",
    "        print(contour_with_license_plate)\n",
    "        x,y,w,h = cv2.boundingRect(contour)\n",
    "        license_plate = gray_image[y:y+h, x:x+w]\n",
    "        break\n",
    "print(x,y,w,h)"
   ]
  },
  {
   "cell_type": "code",
   "execution_count": null,
   "metadata": {},
   "outputs": [],
   "source": []
  }
 ],
 "metadata": {
  "kernelspec": {
   "display_name": "Python 3",
   "language": "python",
   "name": "python3"
  },
  "language_info": {
   "codemirror_mode": {
    "name": "ipython",
    "version": 3
   },
   "file_extension": ".py",
   "mimetype": "text/x-python",
   "name": "python",
   "nbconvert_exporter": "python",
   "pygments_lexer": "ipython3",
   "version": "3.8.8"
  }
 },
 "nbformat": 4,
 "nbformat_minor": 4
}
